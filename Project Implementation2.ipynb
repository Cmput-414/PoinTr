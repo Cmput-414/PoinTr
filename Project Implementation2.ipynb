{
  "cells": [
    {
      "cell_type": "markdown",
      "metadata": {
        "id": "view-in-github",
        "colab_type": "text"
      },
      "source": [
        "<a href=\"https://colab.research.google.com/github/Cmput-414/PoinTr/blob/master/Project%20Implementation2.ipynb\" target=\"_parent\"><img src=\"https://colab.research.google.com/assets/colab-badge.svg\" alt=\"Open In Colab\"/></a>"
      ]
    },
    {
      "cell_type": "markdown",
      "source": [
        "### **Step 1: Set environments**\n",
        "\n"
      ],
      "metadata": {
        "id": "inDyCMC7m7wc"
      }
    },
    {
      "cell_type": "code",
      "source": [
        "##########################################################Step 1: Git clone code ##################################################\n",
        "# 1. we clone the code from the github.\n",
        "# 2. This will create a directory /content/pointr\n",
        "!git -C /content/ clone https://github.com/Cmput-414/PoinTr.git pointr\n",
        "########################################################################################################################################\n",
        "\n",
        "##########################################################Step 2: Install conda ####################################################\n",
        "# 1. Install conda environment for later use.\n",
        "# 2. We will use conda to install a vitural environments with python 3.6\n",
        "!wget https://repo.anaconda.com/miniconda/Miniconda3-py37_4.12.0-Linux-x86_64.sh\n",
        "!chmod +x Miniconda3-py37_4.12.0-Linux-x86_64.sh\n",
        "!bash ./Miniconda3-py37_4.12.0-Linux-x86_64.sh -b -f -p /usr/local/\n",
        "!conda create --no-default-packages -n myenv python=3.6 --yes\n",
        "########################################################################################################################################\n",
        "\n",
        "##########################################################Step 3: set virtual environment #########################################\n",
        "# 1. After we set virtual environment， we activate it, check if we are in correct environment.\n",
        "# 2. Then we install correct cuda version and pytorch version.\n",
        "# 3. Then we will start to install some other packages. (This step will take some times, around 10 minutes.\n",
        "!source activate myenv && which python && conda install pytorch==1.4.0 torchvision==0.5.0 cudatoolkit=10.0 -c pytorch -y\n",
        "!source activate myenv && pip install ninja\n",
        "!source activate myenv && git config --global url.\"https://\".insteadOf git://\n",
        "!source activate myenv && pip install \"git+git://github.com/erikwijmans/Pointnet2_PyTorch.git#egg=pointnet2_ops&subdirectory=pointnet2_ops_lib\"\n",
        "!source activate myenv && pip install --upgrade https://github.com/unlimblue/KNN_CUDA/releases/download/0.1/KNN_CUDA-0.1-py3-none-any.whl\n",
        "%cd /content/pointr\n",
        "!source activate myenv && pip install -r requirements.txt\n",
        "!source activate myenv && cd /content/pointr/extensions/chamfer_dist && python setup.py install --user\n",
        "!source activate myenv && cd /content/pointr/extensions/cubic_feature_sampling && python setup.py install --user\n",
        "!source activate myenv && cd /content/pointr/extensions/gridding && python setup.py install --user \n",
        "!source activate myenv && cd /content/pointr/extensions/gridding_loss && python setup.py install --user\n",
        "########################################################################################################################################"
      ],
      "metadata": {
        "id": "1BtAS4sKG6m3"
      },
      "execution_count": null,
      "outputs": []
    },
    {
      "cell_type": "markdown",
      "source": [
        "### **Step 2: Set dataset**"
      ],
      "metadata": {
        "id": "lENkEEq8nBLq"
      }
    },
    {
      "cell_type": "code",
      "execution_count": null,
      "metadata": {
        "id": "ytRHN4f42KnI"
      },
      "outputs": [],
      "source": [
        "# After set environment, we will start set dataset\n",
        "# In this project, we will use KITTI and \n",
        "##################################################Step 1: KITTI dataset ############################################################\n",
        "#https://drive.google.com/file/d/1Vvci0uu-eAKsBrDEwJWWBP_r9qr_eHzI/view?usp=share_link\n",
        "\n",
        "!cp -r '/content/drive/Shareddrives/Pointr/kitti/bboxes' /content/pointr/data/KITTI\n",
        "!cp -r '/content/drive/Shareddrives/Pointr/kitti/cars' /content/pointr/data/KITTI\n",
        "!cp -r '/content/drive/Shareddrives/Pointr/kitti/tracklets' /content/pointr/data/KITTI\n",
        "########################################################################################################################################\n",
        "\n",
        "##################################################Step 2: PCN dataset ##############################################################\n",
        "# https://drive.google.com/file/d/1hHIoAW97HUsc2A9F159xutd0ajar1mqi/view?usp=share_link\n",
        "\n",
        "!unzip /content/drive/Shareddrives/Pointr/ShapeNetCompletion.zip -d /content/pointr/data\n",
        "!cp -r '/content/pointr/data/PCN/PCN.json' /content/pointr/data/ShapeNetCompletion\n",
        "!cp -r '/content/pointr/data/PCN/category.txt' /content/pointr/data/ShapeNetCompletion\n",
        "!rm -rf /content/pointr/data/PCN\n",
        "!mv /content/pointr/data/ShapeNetCompletion /content/pointr/data/PCN\n",
        "########################################################################################################################################"
      ]
    },
    {
      "cell_type": "markdown",
      "source": [
        "### **Step 3: Train code**\n",
        "In this step: we will get some check points, then we can use these check points to do test. Finally, we can get visual result from the training result."
      ],
      "metadata": {
        "id": "BAqtdrHTmHWJ"
      }
    },
    {
      "cell_type": "code",
      "source": [
        "%cd /content/pointr\n",
        "# You can change KITTI_models to KITTI_models to train KITTI dataset.\n",
        "# The check point will save in to new direcory: ./experiments\n",
        "!source activate myenv && which python && bash ./scripts/train.sh 0 --config ./cfgs/KITTI_models/PoinTr.yaml --exp_name example"
      ],
      "metadata": {
        "id": "CiWHm1pImOCC"
      },
      "execution_count": null,
      "outputs": []
    },
    {
      "cell_type": "markdown",
      "source": [
        "### **Step 4: Test code**\n",
        "In this step, we use training result to do test, and get some visual result."
      ],
      "metadata": {
        "id": "RHG0TZwrl3P6"
      }
    },
    {
      "cell_type": "code",
      "source": [
        "%cd /content/pointr\n",
        "# You can choose one of check point to test.\n",
        "!source activate myenv && which python && bash ./scripts/test.sh 0 --ckpts ./experiments/PoinTr/KITTI_models/example/ckpt-best.pth --config ./cfgs/KITTI_models/PoinTr.yaml --exp_name example\n"
      ],
      "metadata": {
        "id": "4EfGlIl4dKs7"
      },
      "execution_count": null,
      "outputs": []
    }
  ],
  "metadata": {
    "accelerator": "GPU",
    "colab": {
      "provenance": [],
      "machine_shape": "hm",
      "toc_visible": true,
      "include_colab_link": true
    },
    "gpuClass": "premium",
    "kernelspec": {
      "display_name": "Python 3",
      "name": "python3"
    },
    "language_info": {
      "name": "python"
    }
  },
  "nbformat": 4,
  "nbformat_minor": 0
}